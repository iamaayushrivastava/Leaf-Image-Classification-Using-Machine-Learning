{
 "cells": [
  {
   "cell_type": "code",
   "execution_count": null,
   "metadata": {},
   "outputs": [],
   "source": [
    "# Install Augmentor Module\n",
    "\n",
    "# pip install Augmentor\n",
    "\n",
    "# Importing the Augmentor Module\n",
    "\n",
    "import Augmentor\n",
    "\n",
    "# Point to a directory containing ground truth data\n",
    "# Augmented images with the same file names will be added as ground truth data and augmented in parallel to the original data\n",
    "\n",
    "p = Augmentor.Pipeline(\"A://Project//Augmented dataset\")\n",
    "\n",
    "# Augmentation techniques\n",
    "\n",
    "p.rotate(probability=1, max_left_rotation=5, max_right_rotation=5)\n",
    "p.flip_left_right(probability=0.5)\n",
    "p.zoom_random(probability=0.5, percentage_area=0.8)\n",
    "p.flip_top_bottom(probability=0.5)\n",
    "\n",
    "# Number of augmented samples\n",
    "\n",
    "p.sample(10)"
   ]
  }
 ],
 "metadata": {
  "kernelspec": {
   "display_name": "Python 3",
   "language": "python",
   "name": "python3"
  },
  "language_info": {
   "codemirror_mode": {
    "name": "ipython",
    "version": 3
   },
   "file_extension": ".py",
   "mimetype": "text/x-python",
   "name": "python",
   "nbconvert_exporter": "python",
   "pygments_lexer": "ipython3",
   "version": "3.10.0"
  },
  "orig_nbformat": 4
 },
 "nbformat": 4,
 "nbformat_minor": 2
}
