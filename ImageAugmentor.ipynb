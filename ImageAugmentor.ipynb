{
 "cells": [
  {
   "cell_type": "code",
   "execution_count": 1,
   "metadata": {},
   "outputs": [
    {
     "name": "stdout",
     "output_type": "stream",
     "text": [
      "Initialised with 1 image(s) found.\n",
      "Output directory set to A://Project//Augmented dataset\\output."
     ]
    },
    {
     "name": "stderr",
     "output_type": "stream",
     "text": [
      "Processing <PIL.Image.Image image mode=RGB size=214x292 at 0x157ADEC7C10>: 100%|██████████| 10/10 [00:00<00:00, 20.51 Samples/s]\n"
     ]
    }
   ],
   "source": [
    "import Augmentor\n",
    "p = Augmentor.Pipeline(\"A://Project//Augmented dataset\")\n",
    "# Point to a directory containing ground truth data.\n",
    "# Images with the same file names will be added as ground truth data\n",
    "# and augmented in parallel to the original data.\n",
    "#p.ground_truth(\"/path/to/ground_truth_images\")\n",
    "# Add operations to the pipeline as normal:\n",
    "p.rotate(probability=1, max_left_rotation=5, max_right_rotation=5)\n",
    "p.flip_left_right(probability=0.5)\n",
    "p.zoom_random(probability=0.5, percentage_area=0.8)\n",
    "p.flip_top_bottom(probability=0.5)\n",
    "p.sample(10)"
   ]
  },
  {
   "cell_type": "code",
   "execution_count": 2,
   "metadata": {},
   "outputs": [
    {
     "name": "stdout",
     "output_type": "stream",
     "text": [
      "Collecting Augmentor\n",
      "  Downloading Augmentor-0.2.10-py2.py3-none-any.whl (38 kB)\n",
      "Collecting tqdm>=4.9.0\n",
      "  Downloading tqdm-4.65.0-py3-none-any.whl (77 kB)\n",
      "     ---------------------------------------- 0.0/77.1 kB ? eta -:--:--\n",
      "     ---------------------------------------- 77.1/77.1 kB 2.2 MB/s eta 0:00:00\n",
      "Requirement already satisfied: Pillow>=5.2.0 in c:\\users\\hp\\appdata\\local\\programs\\python\\python310\\lib\\site-packages (from Augmentor) (9.1.1)\n",
      "Requirement already satisfied: future>=0.16.0 in c:\\users\\hp\\appdata\\local\\programs\\python\\python310\\lib\\site-packages (from Augmentor) (0.18.2)\n",
      "Requirement already satisfied: numpy>=1.11.0 in c:\\users\\hp\\appdata\\local\\programs\\python\\python310\\lib\\site-packages (from Augmentor) (1.24.2)\n",
      "Requirement already satisfied: colorama in c:\\users\\hp\\appdata\\roaming\\python\\python310\\site-packages (from tqdm>=4.9.0->Augmentor) (0.4.6)\n",
      "Installing collected packages: tqdm, Augmentor\n",
      "Successfully installed Augmentor-0.2.10 tqdm-4.65.0\n",
      "Note: you may need to restart the kernel to use updated packages.\n"
     ]
    }
   ],
   "source": [
    "pip install Augmentor"
   ]
  }
